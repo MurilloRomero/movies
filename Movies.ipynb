{
 "cells": [
  {
   "cell_type": "markdown",
   "metadata": {},
   "source": [
    "### Web Scraping - Top 250 Movies from IMDb"
   ]
  },
  {
   "cell_type": "code",
   "execution_count": 2,
   "metadata": {},
   "outputs": [],
   "source": [
    "# Importing URL\n",
    "import requests\n",
    "\n",
    "r = requests.get('https://www.imdb.com/chart/top/?ref_=nv_mv_250')"
   ]
  },
  {
   "cell_type": "code",
   "execution_count": 3,
   "metadata": {},
   "outputs": [],
   "source": [
    "# Importing BeautifulSoup\n",
    "from bs4 import BeautifulSoup\n",
    "soup = BeautifulSoup(r.text, 'html.parser')"
   ]
  },
  {
   "cell_type": "code",
   "execution_count": 4,
   "metadata": {},
   "outputs": [],
   "source": [
    "# Extracting and cleaning the data\n",
    "result_1 = soup.find_all('td', attrs={'class':'posterColumn'})\n",
    "result_2 = soup.find_all('td', attrs={'class':'titleColumn'})"
   ]
  },
  {
   "cell_type": "code",
   "execution_count": 5,
   "metadata": {},
   "outputs": [
    {
     "data": {
      "text/plain": [
       "'1'"
      ]
     },
     "execution_count": 5,
     "metadata": {},
     "output_type": "execute_result"
    }
   ],
   "source": [
    "# First value of column Rank\n",
    "first_ranking = result_1[0]\n",
    "first_ranking.find('span', attrs={'name':'rk'})['data-value']"
   ]
  },
  {
   "cell_type": "code",
   "execution_count": 6,
   "metadata": {},
   "outputs": [
    {
     "data": {
      "text/plain": [
       "'9.233878831083254'"
      ]
     },
     "execution_count": 6,
     "metadata": {},
     "output_type": "execute_result"
    }
   ],
   "source": [
    "# First value of column Rating\n",
    "first_rating = result_1[0]\n",
    "first_rating.find('span', attrs={'name':'ir'})['data-value']"
   ]
  },
  {
   "cell_type": "code",
   "execution_count": 7,
   "metadata": {},
   "outputs": [
    {
     "data": {
      "text/plain": [
       "'2596800'"
      ]
     },
     "execution_count": 7,
     "metadata": {},
     "output_type": "execute_result"
    }
   ],
   "source": [
    "# First value of column Number of Votes\n",
    "first_number_voting = result_1[0]\n",
    "first_number_voting.find('span', attrs={'name':'nv'})['data-value']"
   ]
  },
  {
   "cell_type": "code",
   "execution_count": 8,
   "metadata": {},
   "outputs": [
    {
     "data": {
      "text/plain": [
       "'1994'"
      ]
     },
     "execution_count": 8,
     "metadata": {},
     "output_type": "execute_result"
    }
   ],
   "source": [
    "# First value of column Year\n",
    "first_year = result_2[0]\n",
    "first_year.find('span', attrs={'class':'secondaryInfo'}).text.replace('(','').replace(')','')"
   ]
  },
  {
   "cell_type": "code",
   "execution_count": 9,
   "metadata": {},
   "outputs": [
    {
     "data": {
      "text/plain": [
       "'Um Sonho de Liberdade'"
      ]
     },
     "execution_count": 9,
     "metadata": {},
     "output_type": "execute_result"
    }
   ],
   "source": [
    "# First value of column Title\n",
    "first_title = result_2[0]\n",
    "first_title.find('a').text"
   ]
  },
  {
   "cell_type": "code",
   "execution_count": 10,
   "metadata": {},
   "outputs": [
    {
     "data": {
      "text/plain": [
       "'Frank Darabont (dir.), Tim Robbins, Morgan Freeman'"
      ]
     },
     "execution_count": 10,
     "metadata": {},
     "output_type": "execute_result"
    }
   ],
   "source": [
    "# First value of column Description\n",
    "first_descr = result_2[0]\n",
    "first_descr.find('a')['title']"
   ]
  },
  {
   "cell_type": "code",
   "execution_count": 11,
   "metadata": {},
   "outputs": [],
   "source": [
    "# Function to extract all data \n",
    "movies = []\n",
    "for a, b in zip(result_1, result_2):\n",
    "    ranking = int(a.find('span', attrs={'name':'rk'})['data-value'])\n",
    "    rating = float(a.find('span', attrs={'name':'ir'})['data-value'])\n",
    "    number_rating = int(a.find('span', attrs={'name':'nv'})['data-value'])\n",
    "    title = b.find('a').text\n",
    "    description = b.find('a')['title']\n",
    "    year = int(b.find('span', attrs={'class':'secondaryInfo'}).text.replace('(','').replace(')',''))\n",
    "    movies.append((ranking, title, description, year, rating, number_rating))"
   ]
  },
  {
   "cell_type": "code",
   "execution_count": 12,
   "metadata": {},
   "outputs": [
    {
     "data": {
      "text/plain": [
       "250"
      ]
     },
     "execution_count": 12,
     "metadata": {},
     "output_type": "execute_result"
    }
   ],
   "source": [
    "# Number of rows(movies)\n",
    "len(movies)"
   ]
  },
  {
   "cell_type": "code",
   "execution_count": 13,
   "metadata": {},
   "outputs": [
    {
     "data": {
      "text/plain": [
       "[(1,\n",
       "  'Um Sonho de Liberdade',\n",
       "  'Frank Darabont (dir.), Tim Robbins, Morgan Freeman',\n",
       "  1994,\n",
       "  9.233878831083254,\n",
       "  2596800),\n",
       " (2,\n",
       "  'O Poderoso Chefão',\n",
       "  'Francis Ford Coppola (dir.), Marlon Brando, Al Pacino',\n",
       "  1972,\n",
       "  9.15583294062378,\n",
       "  1792137),\n",
       " (3,\n",
       "  'Batman: O Cavaleiro das Trevas',\n",
       "  'Christopher Nolan (dir.), Christian Bale, Heath Ledger',\n",
       "  2008,\n",
       "  8.985326312714562,\n",
       "  2567967)]"
      ]
     },
     "execution_count": 13,
     "metadata": {},
     "output_type": "execute_result"
    }
   ],
   "source": [
    "# Showing the 3 first movies\n",
    "movies[0:3]"
   ]
  },
  {
   "cell_type": "code",
   "execution_count": 14,
   "metadata": {},
   "outputs": [],
   "source": [
    "# Creating a table for the data extract\n",
    "import pandas as pd\n",
    "df = pd.DataFrame(movies, columns=['Ranking', 'Title', 'Description', 'Year', 'Rating', 'Number_of_votes'])"
   ]
  },
  {
   "cell_type": "code",
   "execution_count": 15,
   "metadata": {},
   "outputs": [],
   "source": [
    "# Turning the column Ranking as the index\n",
    "df = df.set_index(['Ranking'])\n",
    "df['Rating'] = round(df['Rating'], 1)"
   ]
  },
  {
   "cell_type": "code",
   "execution_count": 16,
   "metadata": {},
   "outputs": [
    {
     "data": {
      "text/html": [
       "<div>\n",
       "<style scoped>\n",
       "    .dataframe tbody tr th:only-of-type {\n",
       "        vertical-align: middle;\n",
       "    }\n",
       "\n",
       "    .dataframe tbody tr th {\n",
       "        vertical-align: top;\n",
       "    }\n",
       "\n",
       "    .dataframe thead th {\n",
       "        text-align: right;\n",
       "    }\n",
       "</style>\n",
       "<table border=\"1\" class=\"dataframe\">\n",
       "  <thead>\n",
       "    <tr style=\"text-align: right;\">\n",
       "      <th></th>\n",
       "      <th>Title</th>\n",
       "      <th>Description</th>\n",
       "      <th>Year</th>\n",
       "      <th>Rating</th>\n",
       "      <th>Number_of_votes</th>\n",
       "    </tr>\n",
       "    <tr>\n",
       "      <th>Ranking</th>\n",
       "      <th></th>\n",
       "      <th></th>\n",
       "      <th></th>\n",
       "      <th></th>\n",
       "      <th></th>\n",
       "    </tr>\n",
       "  </thead>\n",
       "  <tbody>\n",
       "    <tr>\n",
       "      <th>1</th>\n",
       "      <td>Um Sonho de Liberdade</td>\n",
       "      <td>Frank Darabont (dir.), Tim Robbins, Morgan Fre...</td>\n",
       "      <td>1994</td>\n",
       "      <td>9.2</td>\n",
       "      <td>2596800</td>\n",
       "    </tr>\n",
       "    <tr>\n",
       "      <th>2</th>\n",
       "      <td>O Poderoso Chefão</td>\n",
       "      <td>Francis Ford Coppola (dir.), Marlon Brando, Al...</td>\n",
       "      <td>1972</td>\n",
       "      <td>9.2</td>\n",
       "      <td>1792137</td>\n",
       "    </tr>\n",
       "    <tr>\n",
       "      <th>3</th>\n",
       "      <td>Batman: O Cavaleiro das Trevas</td>\n",
       "      <td>Christopher Nolan (dir.), Christian Bale, Heat...</td>\n",
       "      <td>2008</td>\n",
       "      <td>9.0</td>\n",
       "      <td>2567967</td>\n",
       "    </tr>\n",
       "    <tr>\n",
       "      <th>4</th>\n",
       "      <td>O Poderoso Chefão II</td>\n",
       "      <td>Francis Ford Coppola (dir.), Al Pacino, Robert...</td>\n",
       "      <td>1974</td>\n",
       "      <td>9.0</td>\n",
       "      <td>1235714</td>\n",
       "    </tr>\n",
       "    <tr>\n",
       "      <th>5</th>\n",
       "      <td>12 Homens e uma Sentença</td>\n",
       "      <td>Sidney Lumet (dir.), Henry Fonda, Lee J. Cobb</td>\n",
       "      <td>1957</td>\n",
       "      <td>8.9</td>\n",
       "      <td>767212</td>\n",
       "    </tr>\n",
       "  </tbody>\n",
       "</table>\n",
       "</div>"
      ],
      "text/plain": [
       "                                  Title  \\\n",
       "Ranking                                   \n",
       "1                 Um Sonho de Liberdade   \n",
       "2                     O Poderoso Chefão   \n",
       "3        Batman: O Cavaleiro das Trevas   \n",
       "4                  O Poderoso Chefão II   \n",
       "5              12 Homens e uma Sentença   \n",
       "\n",
       "                                               Description  Year  Rating  \\\n",
       "Ranking                                                                    \n",
       "1        Frank Darabont (dir.), Tim Robbins, Morgan Fre...  1994     9.2   \n",
       "2        Francis Ford Coppola (dir.), Marlon Brando, Al...  1972     9.2   \n",
       "3        Christopher Nolan (dir.), Christian Bale, Heat...  2008     9.0   \n",
       "4        Francis Ford Coppola (dir.), Al Pacino, Robert...  1974     9.0   \n",
       "5            Sidney Lumet (dir.), Henry Fonda, Lee J. Cobb  1957     8.9   \n",
       "\n",
       "         Number_of_votes  \n",
       "Ranking                   \n",
       "1                2596800  \n",
       "2                1792137  \n",
       "3                2567967  \n",
       "4                1235714  \n",
       "5                 767212  "
      ]
     },
     "execution_count": 16,
     "metadata": {},
     "output_type": "execute_result"
    }
   ],
   "source": [
    "# A sample of the movies table\n",
    "df.head()"
   ]
  },
  {
   "cell_type": "code",
   "execution_count": 35,
   "metadata": {},
   "outputs": [
    {
     "data": {
      "text/html": [
       "<div>\n",
       "<style scoped>\n",
       "    .dataframe tbody tr th:only-of-type {\n",
       "        vertical-align: middle;\n",
       "    }\n",
       "\n",
       "    .dataframe tbody tr th {\n",
       "        vertical-align: top;\n",
       "    }\n",
       "\n",
       "    .dataframe thead th {\n",
       "        text-align: right;\n",
       "    }\n",
       "</style>\n",
       "<table border=\"1\" class=\"dataframe\">\n",
       "  <thead>\n",
       "    <tr style=\"text-align: right;\">\n",
       "      <th></th>\n",
       "      <th>Year</th>\n",
       "      <th>Rating</th>\n",
       "      <th>Number_of_votes</th>\n",
       "    </tr>\n",
       "  </thead>\n",
       "  <tbody>\n",
       "    <tr>\n",
       "      <th>count</th>\n",
       "      <td>250.000000</td>\n",
       "      <td>250.000000</td>\n",
       "      <td>2.500000e+02</td>\n",
       "    </tr>\n",
       "    <tr>\n",
       "      <th>mean</th>\n",
       "      <td>1986.456000</td>\n",
       "      <td>8.254800</td>\n",
       "      <td>6.190587e+05</td>\n",
       "    </tr>\n",
       "    <tr>\n",
       "      <th>std</th>\n",
       "      <td>25.214423</td>\n",
       "      <td>0.235582</td>\n",
       "      <td>5.007230e+05</td>\n",
       "    </tr>\n",
       "    <tr>\n",
       "      <th>min</th>\n",
       "      <td>1921.000000</td>\n",
       "      <td>8.000000</td>\n",
       "      <td>2.857400e+04</td>\n",
       "    </tr>\n",
       "    <tr>\n",
       "      <th>25%</th>\n",
       "      <td>1966.250000</td>\n",
       "      <td>8.100000</td>\n",
       "      <td>2.096802e+05</td>\n",
       "    </tr>\n",
       "    <tr>\n",
       "      <th>50%</th>\n",
       "      <td>1994.000000</td>\n",
       "      <td>8.200000</td>\n",
       "      <td>4.811380e+05</td>\n",
       "    </tr>\n",
       "    <tr>\n",
       "      <th>75%</th>\n",
       "      <td>2006.750000</td>\n",
       "      <td>8.400000</td>\n",
       "      <td>9.342108e+05</td>\n",
       "    </tr>\n",
       "    <tr>\n",
       "      <th>max</th>\n",
       "      <td>2022.000000</td>\n",
       "      <td>9.200000</td>\n",
       "      <td>2.596800e+06</td>\n",
       "    </tr>\n",
       "  </tbody>\n",
       "</table>\n",
       "</div>"
      ],
      "text/plain": [
       "              Year      Rating  Number_of_votes\n",
       "count   250.000000  250.000000     2.500000e+02\n",
       "mean   1986.456000    8.254800     6.190587e+05\n",
       "std      25.214423    0.235582     5.007230e+05\n",
       "min    1921.000000    8.000000     2.857400e+04\n",
       "25%    1966.250000    8.100000     2.096802e+05\n",
       "50%    1994.000000    8.200000     4.811380e+05\n",
       "75%    2006.750000    8.400000     9.342108e+05\n",
       "max    2022.000000    9.200000     2.596800e+06"
      ]
     },
     "execution_count": 35,
     "metadata": {},
     "output_type": "execute_result"
    }
   ],
   "source": [
    "df.describe()"
   ]
  },
  {
   "cell_type": "code",
   "execution_count": 23,
   "metadata": {},
   "outputs": [
    {
     "data": {
      "image/png": "[encoded data removed]",
      "text/plain": [
       "<Figure size 432x360 with 1 Axes>"
      ]
     },
     "metadata": {},
     "output_type": "display_data"
    }
   ],
   "source": [
    "import matplotlib.pyplot as plt\n",
    "import seaborn as sns\n",
    "# Plots settings\n",
    "plt.figure(figsize=(6, 5))\n",
    "sns.set_theme(color_codes=True)\n",
    "\n",
    "# Plotting Rating Histogram\n",
    "sns.histplot(df.Rating, kde=True)\n",
    "plt.title('Rating Histogram', fontdict={'fontweight':'bold', 'fontsize':16, 'family':'Georgia', 'style':'italic'})\n",
    "plt.xlabel('Rating')\n",
    "plt.show;"
   ]
  },
  {
   "cell_type": "markdown",
   "metadata": {},
   "source": [
    "- 75% of the movies have a rating between 8.0 and 8.4"
   ]
  },
  {
   "cell_type": "code",
   "execution_count": 33,
   "metadata": {},
   "outputs": [
    {
     "data": {
      "image/png": "[encoded data removed]",
      "text/plain": [
       "<Figure size 432x288 with 1 Axes>"
      ]
     },
     "metadata": {},
     "output_type": "display_data"
    }
   ],
   "source": [
    "# Plotting Year x Rating \n",
    "sns.scatterplot(x=df.Year, y=df.Rating)\n",
    "plt.title('Year x Rating', fontdict={'fontweight':'bold', 'fontsize':16, 'family':'Georgia', 'style':'italic'})\n",
    "plt.show;"
   ]
  },
  {
   "cell_type": "markdown",
   "metadata": {},
   "source": [
    "- The major movies with Rating equal or higher than 8.5 was made after 1970."
   ]
  }
 ],
 "metadata": {
  "kernelspec": {
   "display_name": "Python 3.9.7 ('base')",
   "language": "python",
   "name": "python3"
  },
  "language_info": {
   "codemirror_mode": {
    "name": "ipython",
    "version": 3
   },
   "file_extension": ".py",
   "mimetype": "text/x-python",
   "name": "python",
   "nbconvert_exporter": "python",
   "pygments_lexer": "ipython3",
   "version": "3.9.7"
  },
  "orig_nbformat": 4,
  "vscode": {
   "interpreter": {
    "hash": "b6fabb4f4200acecd3c092e52751c3a9abfa0fc4f5369bf6d75d5b48b3ca70a8"
   }
  }
 },
 "nbformat": 4,
 "nbformat_minor": 2
}
